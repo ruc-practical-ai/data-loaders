{
 "cells": [
  {
   "cell_type": "markdown",
   "metadata": {},
   "source": [
    "# Exclusive Or (XOR) Example\n",
    "\n",
    "This example shows how to use `pydatapull` to generate noisy variants of the classical exclusive or problem and train a neural network to solve the problem.\n",
    "\n",
    "Here we require a model $\\hat{y} = f(x)$ to fit the function defined by\n",
    "\n",
    "| $f(x)$ | $x_1$ | $x_2$ |\n",
    "|:---:|:----:|:----:|\n",
    "| 0 | 0 | 0 |\n",
    "| 1 | 0 | 1 |\n",
    "| 1 | 1 | 0 |\n",
    "| 0 | 1 | 1 |\n",
    "\n",
    "The XOR problem is one of the simplest functions which requires deep models to fit, since no model of the form\n",
    "$$\n",
    "y = \\boldsymbol{w} \\cdot \\boldsymbol{x} + b\n",
    "$$\n",
    "will fit it. Instead, a model of the form\n",
    "$$\n",
    "y = \\varphi(\\boldsymbol{W_1}\\boldsymbol{x} + \\boldsymbol{b_1}) \\boldsymbol{w_2} + \\boldsymbol{b_2}\n",
    "$$\n",
    "is required."
   ]
  },
  {
   "cell_type": "markdown",
   "metadata": {},
   "source": [
    "## Imports\n",
    "\n",
    "Here we import the `generate_xor_dataset` function."
   ]
  },
  {
   "cell_type": "code",
   "execution_count": 1,
   "metadata": {},
   "outputs": [],
   "source": [
    "from pydatapull.basicml import generate_xor_dataset"
   ]
  },
  {
   "cell_type": "code",
   "execution_count": null,
   "metadata": {},
   "outputs": [],
   "source": []
  }
 ],
 "metadata": {
  "kernelspec": {
   "display_name": ".venv",
   "language": "python",
   "name": "python3"
  },
  "language_info": {
   "codemirror_mode": {
    "name": "ipython",
    "version": 3
   },
   "file_extension": ".py",
   "mimetype": "text/x-python",
   "name": "python",
   "nbconvert_exporter": "python",
   "pygments_lexer": "ipython3",
   "version": "3.12.1"
  }
 },
 "nbformat": 4,
 "nbformat_minor": 2
}
